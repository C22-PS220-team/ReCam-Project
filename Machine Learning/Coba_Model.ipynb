{
  "nbformat": 4,
  "nbformat_minor": 0,
  "metadata": {
    "colab": {
      "name": "load_model.ipynb",
      "provenance": [],
      "collapsed_sections": []
    },
    "kernelspec": {
      "name": "python3",
      "display_name": "Python 3"
    },
    "language_info": {
      "name": "python"
    }
  },
  "cells": [
    {
      "cell_type": "code",
      "execution_count": null,
      "metadata": {
        "id": "lZSlD9aH18n8"
      },
      "outputs": [],
      "source": [
        "from google.colab import drive\n",
        "drive.mount('/content/drive')"
      ]
    },
    {
      "cell_type": "code",
      "source": [
        "from google.colab import files\n",
        "import numpy as np\n",
        "import cv2\n",
        "import tensorflow as tf\n",
        "from tensorflow.keras.preprocessing.image import img_to_array\n",
        "from tensorflow.keras.preprocessing import image\n",
        "\n",
        "loaded_model = tf.keras.models.load_model('/content/drive/MyDrive/MODEL CAPSTONE/model_3.h5')\n",
        "\n",
        "# get input image \n",
        "uploaded = files.upload()\n",
        "\n",
        "for fn in uploaded.keys():\n",
        "  path = fn\n",
        "\n",
        "# read image file using cv2\n",
        "img = image.load_img(path, target_size=(256, 256))\n",
        "img=img_to_array(img)\n",
        "img=np.expand_dims(img,axis=0)\n",
        "prediction = np.argmax(loaded_model.predict(img), axis=1)\n",
        "if(prediction==0):\n",
        "  print(\"Benda ini tergolong sebagai kaca\")\n",
        "elif(prediction==1):\n",
        "  print(\"Benda ini tergolong sebagai kardus\")\n",
        "elif(prediction==2):\n",
        "  print(\"Benda ini tergolong sebagai kertas\")\n",
        "elif(prediction==3):\n",
        "  print(\"Benda ini tergolong sebagai logam\")\n",
        "elif(prediction==4):\n",
        "  print(\"Benda ini tergolong sebagai plastik\")\n",
        "elif(prediction==5):\n",
        "  print(\"Benda ini tergolong tidak bisa dibuat kerajinan\")"
      ],
      "metadata": {
        "id": "Vf-nF_ws19R9"
      },
      "execution_count": null,
      "outputs": []
    }
  ]
}